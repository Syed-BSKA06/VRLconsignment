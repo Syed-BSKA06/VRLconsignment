{
  "nbformat": 4,
  "nbformat_minor": 0,
  "metadata": {
    "colab": {
      "provenance": []
    },
    "kernelspec": {
      "name": "python3",
      "display_name": "Python 3"
    },
    "language_info": {
      "name": "python"
    }
  },
  "cells": [
    {
      "cell_type": "code",
      "source": [
        "import requests\n",
        "from bs4 import BeautifulSoup\n",
        "response = requests.get('http://www.vrlgroup.in/track_consignment.aspx')\n",
        "\n"
      ],
      "metadata": {
        "id": "3RydV-LnC1Nt"
      },
      "execution_count": null,
      "outputs": []
    },
    {
      "cell_type": "code",
      "source": [
        "doc = BeautifulSoup(response.text, \"html.parser\")\n",
        "print(doc.prettify())\n"
      ],
      "metadata": {
        "id": "X-Lw5jTlmmtb"
      },
      "execution_count": null,
      "outputs": []
    },
    {
      "cell_type": "code",
      "source": [
        "import re\n",
        "\n",
        "regex = r\"data_json.LrStatus(.*)\"\n",
        "matches = re.finditer(regex, response.text)\n",
        "\n",
        "for matchNum, match in enumerate(matches, start=1):\n",
        "\n",
        "    print (\"Match {matchNum} was found at {start}-{end}: {match}\".format(matchNum = matchNum, start = match.start(), end = match.end(), match = match.group()))\n",
        "\n",
        "    for groupNum in range(0, len(match.groups())):\n",
        "        groupNum = groupNum + 1\n",
        "\n",
        "        print (\"Group {groupNum} found at {start}-{end}: {group}\".format(groupNum = groupNum, start = match.start(groupNum), end = match.end(groupNum), group = match.group(groupNum)))\n",
        "\n",
        "\n",
        "print(match.groups(0)[0])\n",
        "\n",
        "\n",
        ""
      ],
      "metadata": {
        "colab": {
          "base_uri": "https://localhost:8080/"
        },
        "id": "PpZDvUFNqurp",
        "outputId": "458d8427-7d94-4b80-ab49-b9967bcdc1ff"
      },
      "execution_count": null,
      "outputs": [
        {
          "output_type": "stream",
          "name": "stdout",
          "text": [
            "Match 1 was found at 19135-19180: data_json.LrStatus.toLowerCase() + '</div>';\r\n",
            "Group 1 found at 19153-19180: .toLowerCase() + '</div>';\r\n",
            ".toLowerCase() + '</div>';\r\n"
          ]
        }
      ]
    },
    {
      "cell_type": "code",
      "source": [
        "consignment = (input(\"Welcome to VRL Logistics \\n Please Enter the consignment number to track :\"))\n"
      ],
      "metadata": {
        "colab": {
          "base_uri": "https://localhost:8080/"
        },
        "id": "kYRiJPKCOL4n",
        "outputId": "b775b35b-a5f5-45a0-8a58-43650bdde1a9"
      },
      "execution_count": null,
      "outputs": [
        {
          "name": "stdout",
          "output_type": "stream",
          "text": [
            "Welcome to VRL Logistics \n",
            " Please Enter the consignment number to track :1036960217\n"
          ]
        }
      ]
    },
    {
      "cell_type": "code",
      "source": [
        "url = \"http://vrlgroup.in/track_consignment.aspx?lrtrack=1&lrno=%s\" % (consignment)\n",
        "response = requests.post(url)\n",
        "print(response.text)"
      ],
      "metadata": {
        "colab": {
          "base_uri": "https://localhost:8080/"
        },
        "id": "wCZXUEmXUjze",
        "outputId": "4005fcc2-e933-4cd3-d5a5-e2acb464980d"
      },
      "execution_count": null,
      "outputs": [
        {
          "output_type": "stream",
          "name": "stdout",
          "text": [
            "{\"Status\":\"Success\",\"BookingDetails\": [{\"lrno\":\"1036960217\",\"bkdate\":\"03-08-2021 19:51:00\",\"noa\":2,\"bookingfrom\":\"AMBALA\",\"destination\":\"HYDERABAD PATARGATTI\",\"bookingcity\":\"AMBALA\",\"destinationcity\":\"HYDERABAD\",\"consignor\":\"ZYLIG LIFESCIENCES\",\"consignee\":\"HEALTHCARE DISTRIBUTOR\",\"actual_weight\":25.00,\"charged_weight\":40,\"goods_description\":\"HLM GOODS\",\"invno\":\"ZYL0002273\",\"pdflink\":\"http:\\/\\/www.vrlgroup.in\\/COREVRL\\/core_app_booking\\/bk_gcprint_pdf.aspx?LRNOS=74898666&r=74898666&brnid=2207&pdelay=0&reprint=N&email=Y&seg=EMAIL&n=htmllr\"}],\"TsDetails\": [{\"lrno\":\"1036960217\",\"tstpt\":\"HYDERABAD TPT\",\"loadedfrom\":\"HYDERABAD\",\"tpt\":\"HYDERABAD PATARGATTI\",\"loadedto\":\"HYDERABAD\",\"tsno\":120271589,\"vehno\":\"AP29U2124\",\"loaddate\":\"14-08-2021 07:31:51\",\"L1L2\":\"\",\"gps_yn\":\"N\",\"sou\":\"F\",\"intsdate\":\"14-08-2021 07:32:00\"},{\"lrno\":\"1036960217\",\"tstpt\":\"HYDERABAD TPT\",\"loadedfrom\":\"HYDERABAD\",\"tpt\":\"HYDERABAD PATARGATTI\",\"loadedto\":\"HYDERABAD\",\"tsno\":120256727,\"vehno\":\"AP29U2124\",\"loaddate\":\"12-08-2021 06:26:43\",\"L1L2\":\"\",\"gps_yn\":\"N\",\"sou\":\"F\",\"intsdate\":\"11-08-2021 11:46:00\"},{\"lrno\":\"1036960217\",\"tstpt\":\"DELHI TPT\",\"loadedfrom\":\"DELHI\",\"tpt\":\"HYDERABAD TPT\",\"loadedto\":\"HYDERABAD\",\"tsno\":120241488,\"vehno\":\"KA25D7356\",\"loaddate\":\"10-08-2021 04:52:26\",\"L1L2\":\"\",\"gps_yn\":\"Y\",\"gpsdatetime\":\"29-09-2022 11:06:38\",\"sou\":\"F\",\"intsdate\":\"09-08-2021 19:38:00\"},{\"lrno\":\"1036960217\",\"tstpt\":\"DELHI TPT\",\"loadedfrom\":\"DELHI\",\"tpt\":\"HYDERABAD TPT\",\"loadedto\":\"HYDERABAD\",\"tsno\":120233480,\"vehno\":\"KA25AA4213\",\"loaddate\":\"08-08-2021 17:47:33\",\"L1L2\":\"\",\"gps_yn\":\"Y\",\"gpsdatetime\":\"29-09-2022 11:01:06\",\"sou\":\"F\",\"intsdate\":\"05-08-2021 11:26:00\"},{\"lrno\":\"1036960217\",\"tstpt\":\"AMBALA\",\"loadedfrom\":\"AMBALA\",\"tpt\":\"DELHI TPT\",\"loadedto\":\"DELHI\",\"tsno\":120209465,\"vehno\":\"HR38U7701\",\"loaddate\":\"04-08-2021 22:16:00\",\"L1L2\":\"\",\"gps_yn\":\"Y\",\"gpsdatetime\":\"29-09-2022 11:07:15\",\"sou\":\"F\",\"intsdate\":\"03-08-2021 19:51:00\"}],\"TsStkDetails\": [],\"DeliveryDetails\": [{\"sou\":\"F\",\"lrno\":\"1036960217\",\"crno\":2592056560,\"crdate\":\"12-08-2021 14:19:00\",\"dlyat\":\"HYDERABAD PATARGATTI\",\"dlycity\":\"HYDERABAD\",\"vehno\":\"OFF\",\"crremark\":\"\",\"naration\":\"\",\"dlystatus\":\"DELIVERED\",\"intsdate\":\"12-08-2021 09:28:00\"}],\"LrStatus\": \"DELIVERED\",\"EDD\": \"2021-08-10T15:00:00Z\"}\n"
          ]
        }
      ]
    },
    {
      "cell_type": "code",
      "source": [
        "consignment = (input(\"Welcome to VRL Logistics \\n Please Enter the consignment number to track :\"))\n",
        "url = \"http://vrlgroup.in/track_consignment.aspx?lrtrack=1&lrno=%s\" % (consignment)\n",
        "\n"
      ],
      "metadata": {
        "colab": {
          "base_uri": "https://localhost:8080/"
        },
        "id": "YsuAJkQCVTpJ",
        "outputId": "9332053e-02b4-4cb6-95aa-06469ce7226c"
      },
      "execution_count": null,
      "outputs": [
        {
          "name": "stdout",
          "output_type": "stream",
          "text": [
            "Welcome to VRL Logistics \n",
            " Please Enter the consignment number to track :1036960217\n"
          ]
        }
      ]
    },
    {
      "cell_type": "code",
      "source": [
        "response = requests.post(url)\n",
        "#print(response.text)\n",
        "f = response.json()\n",
        "print(f)"
      ],
      "metadata": {
        "colab": {
          "base_uri": "https://localhost:8080/"
        },
        "id": "0ouIJ7zFjrvk",
        "outputId": "803b9550-5940-49af-97cd-b4fc3757cfc4"
      },
      "execution_count": null,
      "outputs": [
        {
          "output_type": "stream",
          "name": "stdout",
          "text": [
            "{'Status': 'Success', 'BookingDetails': [{'lrno': '1036960217', 'bkdate': '03-08-2021 19:51:00', 'noa': 2, 'bookingfrom': 'AMBALA', 'destination': 'HYDERABAD PATARGATTI', 'bookingcity': 'AMBALA', 'destinationcity': 'HYDERABAD', 'consignor': 'ZYLIG LIFESCIENCES', 'consignee': 'HEALTHCARE DISTRIBUTOR', 'actual_weight': 25.0, 'charged_weight': 40, 'goods_description': 'HLM GOODS', 'invno': 'ZYL0002273', 'pdflink': 'http://www.vrlgroup.in/COREVRL/core_app_booking/bk_gcprint_pdf.aspx?LRNOS=74898666&r=74898666&brnid=2207&pdelay=0&reprint=N&email=Y&seg=EMAIL&n=htmllr'}], 'TsDetails': [{'lrno': '1036960217', 'tstpt': 'HYDERABAD TPT', 'loadedfrom': 'HYDERABAD', 'tpt': 'HYDERABAD PATARGATTI', 'loadedto': 'HYDERABAD', 'tsno': 120271589, 'vehno': 'AP29U2124', 'loaddate': '14-08-2021 07:31:51', 'L1L2': '', 'gps_yn': 'N', 'sou': 'F', 'intsdate': '14-08-2021 07:32:00'}, {'lrno': '1036960217', 'tstpt': 'HYDERABAD TPT', 'loadedfrom': 'HYDERABAD', 'tpt': 'HYDERABAD PATARGATTI', 'loadedto': 'HYDERABAD', 'tsno': 120256727, 'vehno': 'AP29U2124', 'loaddate': '12-08-2021 06:26:43', 'L1L2': '', 'gps_yn': 'N', 'sou': 'F', 'intsdate': '11-08-2021 11:46:00'}, {'lrno': '1036960217', 'tstpt': 'DELHI TPT', 'loadedfrom': 'DELHI', 'tpt': 'HYDERABAD TPT', 'loadedto': 'HYDERABAD', 'tsno': 120241488, 'vehno': 'KA25D7356', 'loaddate': '10-08-2021 04:52:26', 'L1L2': '', 'gps_yn': 'Y', 'gpsdatetime': '29-09-2022 11:06:38', 'sou': 'F', 'intsdate': '09-08-2021 19:38:00'}, {'lrno': '1036960217', 'tstpt': 'DELHI TPT', 'loadedfrom': 'DELHI', 'tpt': 'HYDERABAD TPT', 'loadedto': 'HYDERABAD', 'tsno': 120233480, 'vehno': 'KA25AA4213', 'loaddate': '08-08-2021 17:47:33', 'L1L2': '', 'gps_yn': 'Y', 'gpsdatetime': '29-09-2022 11:01:06', 'sou': 'F', 'intsdate': '05-08-2021 11:26:00'}, {'lrno': '1036960217', 'tstpt': 'AMBALA', 'loadedfrom': 'AMBALA', 'tpt': 'DELHI TPT', 'loadedto': 'DELHI', 'tsno': 120209465, 'vehno': 'HR38U7701', 'loaddate': '04-08-2021 22:16:00', 'L1L2': '', 'gps_yn': 'Y', 'gpsdatetime': '29-09-2022 11:07:15', 'sou': 'F', 'intsdate': '03-08-2021 19:51:00'}], 'TsStkDetails': [], 'DeliveryDetails': [{'sou': 'F', 'lrno': '1036960217', 'crno': 2592056560, 'crdate': '12-08-2021 14:19:00', 'dlyat': 'HYDERABAD PATARGATTI', 'dlycity': 'HYDERABAD', 'vehno': 'OFF', 'crremark': '', 'naration': '', 'dlystatus': 'DELIVERED', 'intsdate': '12-08-2021 09:28:00'}], 'LrStatus': 'DELIVERED', 'EDD': '2021-08-10T15:00:00Z'}\n"
          ]
        }
      ]
    },
    {
      "cell_type": "code",
      "source": [
        "regex = r\"lrno:(.*)\"\n",
        "matches = re.finditer(regex, f)\n",
        "\n",
        "for matchNum, match in enumerate(matches, start=1):\n",
        "\n",
        "    print (\"Match {matchNum} was found at {start}-{end}: {match}\".format(matchNum = matchNum, start = match.start(), end = match.end(), match = match.group()))\n",
        "\n",
        "    for groupNum in range(0, len(match.groups())):\n",
        "        groupNum = groupNum + 1\n",
        "\n",
        "        print (\"Group {groupNum} found at {start}-{end}: {group}\".format(groupNum = groupNum, start = match.start(groupNum), end = match.end(groupNum), group = match.group(groupNum)))\n",
        "\n",
        "\n",
        "print(match.groups(0))"
      ],
      "metadata": {
        "id": "Rl-njYWjkV_f"
      },
      "execution_count": null,
      "outputs": []
    },
    {
      "cell_type": "code",
      "source": [
        "found = False\n",
        "for line in f:\n",
        "  if not found:\n",
        "    counter = 0\n",
        "    for part in line.split():\n",
        "      counter = counter + 1\n",
        "      if \"dlystatus \" in part:\n",
        "        print(part)\n",
        "        print(line.split()[counter])\n",
        "        found = True\n",
        ""
      ],
      "metadata": {
        "id": "BSM_v_r9ncFG"
      },
      "execution_count": null,
      "outputs": []
    },
    {
      "cell_type": "code",
      "source": [
        "deliverystatus = f['DeliveryDetails'][0]['dlystatus']\n",
        "Timestamp = f['DeliveryDetails'][0]['intsdate']\n",
        "city = f['DeliveryDetails'][0]['dlycity']\n",
        "place = f['DeliveryDetails'][0]['dlyat']\n",
        "print(f\"The status is : {deliverystatus}\")\n",
        "print(f\"Date and time of the delivery : {Timestamp}\")\n",
        "print(f\"City : {city}\")\n",
        "print(f\"Place of Delivery: {place}\")\n"
      ],
      "metadata": {
        "colab": {
          "base_uri": "https://localhost:8080/"
        },
        "id": "FyioZfd5r2pP",
        "outputId": "4f334f6c-8fea-4837-b71b-7d15bfafc794"
      },
      "execution_count": null,
      "outputs": [
        {
          "output_type": "stream",
          "name": "stdout",
          "text": [
            "The status is : DELIVERED\n",
            "Date and time of the delivery : 12-08-2021 09:28:00\n",
            "City : HYDERABAD\n",
            "Place of Delivery: HYDERABAD PATARGATTI\n"
          ]
        }
      ]
    },
    {
      "cell_type": "code",
      "source": [
        "#pushed code\n",
        "import requests\n",
        "consignment = (input(\"Welcome to VRL Logistics \\n Please Enter the consignment number to track :\"))\n",
        "url = \"http://vrlgroup.in/track_consignment.aspx?lrtrack=1&lrno=%s\" % (consignment)\n",
        "response = requests.post(url)\n",
        "f = response.json()\n",
        "deliverystatus = f['DeliveryDetails'][0]['dlystatus']\n",
        "Timestamp = f['DeliveryDetails'][0]['intsdate']\n",
        "city = f['DeliveryDetails'][0]['dlycity']\n",
        "place = f['DeliveryDetails'][0]['dlyat']\n",
        "print(f\"The status is : {deliverystatus}\")\n",
        "print(f\"Date and time of the delivery : {Timestamp}\")\n",
        "print(f\"City : {city}\")\n",
        "print(f\"Place of Delivery: {place}\")\n"
      ],
      "metadata": {
        "colab": {
          "base_uri": "https://localhost:8080/"
        },
        "id": "UCx_wxD8vk8C",
        "outputId": "352d1eba-1453-48c3-dae0-5e134a06abd5"
      },
      "execution_count": null,
      "outputs": [
        {
          "output_type": "stream",
          "name": "stdout",
          "text": [
            "Welcome to VRL Logistics \n",
            " Please Enter the consignment number to track :1036960217\n",
            "The status is : DELIVERED\n",
            "Date and time of the delivery : 12-08-2021 09:28:00\n",
            "City : HYDERABAD\n",
            "Place of Delivery: HYDERABAD PATARGATTI\n"
          ]
        }
      ]
    }
  ]
}